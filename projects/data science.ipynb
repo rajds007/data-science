{
 "cells": [
  {
   "cell_type": "code",
   "execution_count": 2,
   "id": "a74d6c44",
   "metadata": {},
   "outputs": [
    {
     "name": "stdout",
     "output_type": "stream",
     "text": [
      "hello world!!\n"
     ]
    }
   ],
   "source": [
    "print(\"hello world!!\")"
   ]
  },
  {
   "cell_type": "code",
   "execution_count": 3,
   "id": "e7ab9634",
   "metadata": {},
   "outputs": [
    {
     "name": "stdout",
     "output_type": "stream",
     "text": [
      "rajnish kr raj\n"
     ]
    }
   ],
   "source": [
    "print(\"rajnish kr raj\")"
   ]
  },
  {
   "cell_type": "code",
   "execution_count": 5,
   "id": "d18fd2f6",
   "metadata": {},
   "outputs": [
    {
     "name": "stdout",
     "output_type": "stream",
     "text": [
      "x*y\n"
     ]
    }
   ],
   "source": [
    "x=4\n",
    "y=6\n",
    "print(x*y)"
   ]
  },
  {
   "cell_type": "code",
   "execution_count": 6,
   "id": "a7dd4afd",
   "metadata": {},
   "outputs": [
    {
     "name": "stdout",
     "output_type": "stream",
     "text": [
      "x*y\n"
     ]
    }
   ],
   "source": [
    "x=4\n",
    "y=6\n",
    "print(\"x*y\")"
   ]
  },
  {
   "cell_type": "code",
   "execution_count": null,
   "id": "0fef4662",
   "metadata": {},
   "outputs": [],
   "source": []
  }
 ],
 "metadata": {
  "kernelspec": {
   "display_name": "Python 3 (ipykernel)",
   "language": "python",
   "name": "python3"
  },
  "language_info": {
   "codemirror_mode": {
    "name": "ipython",
    "version": 3
   },
   "file_extension": ".py",
   "mimetype": "text/x-python",
   "name": "python",
   "nbconvert_exporter": "python",
   "pygments_lexer": "ipython3",
   "version": "3.9.13"
  }
 },
 "nbformat": 4,
 "nbformat_minor": 5
}
